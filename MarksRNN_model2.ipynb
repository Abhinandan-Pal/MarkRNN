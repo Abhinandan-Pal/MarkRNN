{
  "nbformat": 4,
  "nbformat_minor": 0,
  "metadata": {
    "colab": {
      "name": "MarksRNN_model2",
      "provenance": [],
      "collapsed_sections": [],
      "authorship_tag": "ABX9TyMvbj1d5E2ePthV59z+LJqg",
      "include_colab_link": true
    },
    "kernelspec": {
      "name": "python3",
      "display_name": "Python 3"
    },
    "accelerator": "GPU"
  },
  "cells": [
    {
      "cell_type": "markdown",
      "metadata": {
        "id": "view-in-github",
        "colab_type": "text"
      },
      "source": [
        "<a href=\"https://colab.research.google.com/github/Abhinandan-Pal/MarkRNN/blob/master/MarksRNN_model2.ipynb\" target=\"_parent\"><img src=\"https://colab.research.google.com/assets/colab-badge.svg\" alt=\"Open In Colab\"/></a>"
      ]
    },
    {
      "cell_type": "markdown",
      "metadata": {
        "id": "NunA2szM_e9i",
        "colab_type": "text"
      },
      "source": [
        "# **Importing and dowloading**"
      ]
    },
    {
      "cell_type": "code",
      "metadata": {
        "id": "BxWIx2lfTJx3",
        "colab_type": "code",
        "colab": {}
      },
      "source": [
        "import tensorflow_datasets as tfds\n",
        "import tensorflow as tf\n",
        "from IPython import display\n",
        "import re\n",
        "from sklearn.model_selection import train_test_split\n",
        "import os\n",
        "import io\n",
        "import time\n",
        "import matplotlib.pyplot as plt"
      ],
      "execution_count": 2,
      "outputs": []
    },
    {
      "cell_type": "code",
      "metadata": {
        "id": "BfFmg0wF_vXe",
        "colab_type": "code",
        "colab": {}
      },
      "source": [
        "# https://github.com/mahnazkoupaee/WikiHow-Dataset\n",
        "# Refer to this link to get the dataset used"
      ],
      "execution_count": 3,
      "outputs": []
    },
    {
      "cell_type": "code",
      "metadata": {
        "id": "d059ubxPTUtC",
        "colab_type": "code",
        "colab": {
          "base_uri": "https://localhost:8080/",
          "height": 34
        },
        "outputId": "78ceb6b4-f13f-46f9-867f-2aa0eed48c52"
      },
      "source": [
        "from google.colab import drive\n",
        "drive.mount(\"drive\")"
      ],
      "execution_count": 4,
      "outputs": [
        {
          "output_type": "stream",
          "text": [
            "Drive already mounted at drive; to attempt to forcibly remount, call drive.mount(\"drive\", force_remount=True).\n"
          ],
          "name": "stdout"
        }
      ]
    },
    {
      "cell_type": "code",
      "metadata": {
        "id": "rJnvsigyTW9s",
        "colab_type": "code",
        "colab": {}
      },
      "source": [
        "filePath = \"drive/My Drive/MarksRNN/\""
      ],
      "execution_count": 5,
      "outputs": []
    },
    {
      "cell_type": "code",
      "metadata": {
        "id": "xN_CcOCyTZ8w",
        "colab_type": "code",
        "colab": {}
      },
      "source": [
        "import pandas as pd\n",
        "import random\n",
        "data = pd.read_csv(filePath + \"wikihowAll.csv\")"
      ],
      "execution_count": 6,
      "outputs": []
    },
    {
      "cell_type": "markdown",
      "metadata": {
        "id": "Jp8KFum_DVZp",
        "colab_type": "text"
      },
      "source": [
        "# **Preprocessing**"
      ]
    },
    {
      "cell_type": "code",
      "metadata": {
        "id": "p_feSgqTTlSM",
        "colab_type": "code",
        "colab": {}
      },
      "source": [
        "def newSent(Para,Score):\n",
        "    Para =  Para.replace(\"\\n\\n\", \"\\n\").replace(\"\\n\\n\\n\", \"\\n\")\n",
        "    sentences = Para.split('\\n')\n",
        "    newSents = \"\"\n",
        "    for sent in sentences:\n",
        "        if (random.random() < Score):\n",
        "            newSents = newSents + \"\\n\" + sent\n",
        "    return newSents"
      ],
      "execution_count": 7,
      "outputs": []
    },
    {
      "cell_type": "code",
      "metadata": {
        "id": "YELG4BeXTmMM",
        "colab_type": "code",
        "colab": {
          "base_uri": "https://localhost:8080/",
          "height": 34
        },
        "outputId": "f1264a08-f343-49ff-9928-b57cade0609e"
      },
      "source": [
        "newData = pd.DataFrame(columns = ['Answer', 'Marking','Score'])\n",
        "data[\"text\"]= data[\"text\"].astype(str)\n",
        "data[\"headline\"]= data[\"headline\"].astype(str)\n",
        "j = 0 \n",
        "#len(data)\n",
        "for i in range(999):\n",
        "    display.clear_output(wait=True)\n",
        "    print(str(i)+\"/\"+str(len(data)))\n",
        "    for score10 in range(5,11):\n",
        "        newData.loc[j] = [newSent(data['text'][i],score10/10) , data['headline'][i] , score10]\n",
        "        j = j + 1"
      ],
      "execution_count": 8,
      "outputs": [
        {
          "output_type": "stream",
          "text": [
            "998/215365\n"
          ],
          "name": "stdout"
        }
      ]
    },
    {
      "cell_type": "code",
      "metadata": {
        "id": "PTaD1zLLTpHb",
        "colab_type": "code",
        "colab": {}
      },
      "source": [
        "def preprocess(ans,mark):    \n",
        "    mark = mark.replace(\".,\",\".\")\n",
        "    ans = re.sub(r'[.]+[\\n]+[,]',\".\\n\", ans)\n",
        "    return ans,mark"
      ],
      "execution_count": 9,
      "outputs": []
    },
    {
      "cell_type": "code",
      "metadata": {
        "id": "sAOM76-yUDWq",
        "colab_type": "code",
        "colab": {}
      },
      "source": [
        "answer = []\n",
        "marking = []\n",
        "score = []\n",
        "\n",
        "for i in range(len(newData)):\n",
        "  if len(newData['Marking'][i] ) < (0.75*len(newData['Answer'][i])):\n",
        "    if( ( len(newData['Marking'][i])<2000 ) and ( len(newData['Answer'][i] )<4000) ):\n",
        "      a,b = preprocess(newData['Answer'][i],newData['Marking'][i])\n",
        "      \n",
        "      answer.append(a)\n",
        "      marking.append(b)\n",
        "\n",
        "      score.append([newData['Score'][i]])"
      ],
      "execution_count": 10,
      "outputs": []
    },
    {
      "cell_type": "code",
      "metadata": {
        "id": "QjCmH7d-WQrK",
        "colab_type": "code",
        "colab": {
          "base_uri": "https://localhost:8080/",
          "height": 34
        },
        "outputId": "7b67cc9a-53f2-4748-dc79-98c95300d025"
      },
      "source": [
        "len(answer)"
      ],
      "execution_count": 11,
      "outputs": [
        {
          "output_type": "execute_result",
          "data": {
            "text/plain": [
              "4408"
            ]
          },
          "metadata": {
            "tags": []
          },
          "execution_count": 11
        }
      ]
    },
    {
      "cell_type": "code",
      "metadata": {
        "id": "q5re_mRhUyD3",
        "colab_type": "code",
        "colab": {}
      },
      "source": [
        "def tokenize(lang):\n",
        "  lang_tokenizer = tf.keras.preprocessing.text.Tokenizer(\n",
        "      filters='')\n",
        "  lang_tokenizer.fit_on_texts(lang)\n",
        "\n",
        "  tensor = lang_tokenizer.texts_to_sequences(lang)\n",
        "\n",
        "  tensor = tf.keras.preprocessing.sequence.pad_sequences(tensor,\n",
        "                                                         padding='post')\n",
        "\n",
        "  return tensor, lang_tokenizer"
      ],
      "execution_count": 12,
      "outputs": []
    },
    {
      "cell_type": "code",
      "metadata": {
        "id": "hohbXwTeU3x1",
        "colab_type": "code",
        "colab": {}
      },
      "source": [
        "ans_tensor , ans_token = tokenize(answer)\n",
        "mark_tensor , mark_token = tokenize(marking)\n",
        "score_tensor_train = tf.convert_to_tensor(score ,dtype=tf.float32)"
      ],
      "execution_count": 13,
      "outputs": []
    },
    {
      "cell_type": "code",
      "metadata": {
        "id": "KDlVGp6_YMOm",
        "colab_type": "code",
        "colab": {
          "base_uri": "https://localhost:8080/",
          "height": 191
        },
        "outputId": "dc14a6d7-ad2a-471a-da82-aebf1fee9fd0"
      },
      "source": [
        "print(ans_tensor.shape)\n",
        "print(mark_tensor.shape)\n",
        "print(score_tensor_train)"
      ],
      "execution_count": 14,
      "outputs": [
        {
          "output_type": "stream",
          "text": [
            "(4408, 769)\n",
            "(4408, 246)\n",
            "tf.Tensor(\n",
            "[[ 5.]\n",
            " [ 6.]\n",
            " [ 7.]\n",
            " ...\n",
            " [ 8.]\n",
            " [ 9.]\n",
            " [10.]], shape=(4408, 1), dtype=float32)\n"
          ],
          "name": "stdout"
        }
      ]
    },
    {
      "cell_type": "code",
      "metadata": {
        "id": "s7hqg1zcaj7i",
        "colab_type": "code",
        "colab": {}
      },
      "source": [
        "def convert(lang, tensor):\n",
        "  for t in tensor:\n",
        "    if t!=0:\n",
        "      print (\"%d ----> %s\" % (t, lang.index_word[t]))"
      ],
      "execution_count": 15,
      "outputs": []
    },
    {
      "cell_type": "code",
      "metadata": {
        "id": "pL5c37Azasjx",
        "colab_type": "code",
        "colab": {
          "base_uri": "https://localhost:8080/",
          "height": 1000
        },
        "outputId": "1c09c809-af0b-48f1-9ad1-e3e839e3cc21"
      },
      "source": [
        "print (\"Input Language; index to word mapping\")\n",
        "convert(mark_token, mark_tensor[0])\n",
        "print ()\n"
      ],
      "execution_count": 16,
      "outputs": [
        {
          "output_type": "stream",
          "text": [
            "Input Language; index to word mapping\n",
            "208 ----> \n",
            "keep\n",
            "1749 ----> related\n",
            "547 ----> supplies\n",
            "9 ----> in\n",
            "3 ----> the\n",
            "209 ----> same\n",
            "1989 ----> area.\n",
            "make\n",
            "32 ----> an\n",
            "268 ----> effort\n",
            "2 ----> to\n",
            "212 ----> clean\n",
            "4 ----> a\n",
            "1990 ----> dedicated\n",
            "1991 ----> workspace\n",
            "150 ----> after\n",
            "158 ----> every\n",
            "1992 ----> session.\n",
            "place\n",
            "1111 ----> loose\n",
            "547 ----> supplies\n",
            "9 ----> in\n",
            "1993 ----> large,\n",
            "686 ----> clearly\n",
            "1994 ----> visible\n",
            "1995 ----> containers.\n",
            "use\n",
            "1996 ----> clotheslines\n",
            "6 ----> and\n",
            "1997 ----> clips\n",
            "2 ----> to\n",
            "135 ----> hang\n",
            "787 ----> sketches,\n",
            "1112 ----> photos,\n",
            "6 ----> and\n",
            "1113 ----> reference\n",
            "1998 ----> material.\n",
            "use\n",
            "158 ----> every\n",
            "1114 ----> inch\n",
            "8 ----> of\n",
            "3 ----> the\n",
            "873 ----> room\n",
            "10 ----> for\n",
            "1999 ----> storage,\n",
            "391 ----> especially\n",
            "2000 ----> vertical\n",
            "2001 ----> space.\n",
            "use\n",
            "2002 ----> chalkboard\n",
            "2003 ----> paint\n",
            "2 ----> to\n",
            "44 ----> make\n",
            "307 ----> space\n",
            "10 ----> for\n",
            "2004 ----> drafting\n",
            "1115 ----> ideas\n",
            "72 ----> right\n",
            "16 ----> on\n",
            "3 ----> the\n",
            "2005 ----> walls.\n",
            "purchase\n",
            "4 ----> a\n",
            "2006 ----> label\n",
            "2007 ----> maker\n",
            "2 ----> to\n",
            "44 ----> make\n",
            "1 ----> your\n",
            "1116 ----> organization\n",
            "2008 ----> strategy\n",
            "2009 ----> semi-permanent.\n",
            "make\n",
            "4 ----> a\n",
            "2010 ----> habit\n",
            "8 ----> of\n",
            "962 ----> throwing\n",
            "20 ----> out\n",
            "2011 ----> old,\n",
            "2012 ----> excess,\n",
            "14 ----> or\n",
            "2013 ----> useless\n",
            "372 ----> stuff\n",
            "127 ----> each\n",
            "2014 ----> month.\n",
            "\n"
          ],
          "name": "stdout"
        }
      ]
    },
    {
      "cell_type": "code",
      "metadata": {
        "id": "b2a3huR9bUla",
        "colab_type": "code",
        "colab": {}
      },
      "source": [
        "BUFFER_SIZE = len(ans_tensor)\n",
        "BATCH_SIZE = 64\n",
        "steps_per_epoch = len(ans_tensor)//BATCH_SIZE\n",
        "\n",
        "vocab_ans_size = len(ans_token.word_index)+1\n",
        "vocab_mark_size = len(mark_token.word_index)+1\n",
        "\n",
        "dataset = tf.data.Dataset.from_tensor_slices((ans_tensor,mark_tensor,score_tensor_train)).shuffle(BUFFER_SIZE)\n",
        "dataset = dataset.batch(BATCH_SIZE, drop_remainder=True)"
      ],
      "execution_count": 17,
      "outputs": []
    },
    {
      "cell_type": "code",
      "metadata": {
        "id": "YnrRLr6CeTcw",
        "colab_type": "code",
        "colab": {
          "base_uri": "https://localhost:8080/",
          "height": 52
        },
        "outputId": "5dcc7a0a-0aab-4fa0-a3df-6b8a719d0f16"
      },
      "source": [
        "print(vocab_ans_size)\n",
        "print(vocab_mark_size)"
      ],
      "execution_count": 18,
      "outputs": [
        {
          "output_type": "stream",
          "text": [
            "32602\n",
            "8964\n"
          ],
          "name": "stdout"
        }
      ]
    },
    {
      "cell_type": "code",
      "metadata": {
        "id": "ejR2RxzZeeXq",
        "colab_type": "code",
        "colab": {
          "base_uri": "https://localhost:8080/",
          "height": 34
        },
        "outputId": "2a818bf5-139c-4230-fa63-e8c78e2f2aa8"
      },
      "source": [
        "example_ans_batch, example_mark_batch , example_score = next(iter(dataset))\n",
        "example_ans_batch.shape, example_mark_batch.shape,example_score.shape"
      ],
      "execution_count": 19,
      "outputs": [
        {
          "output_type": "execute_result",
          "data": {
            "text/plain": [
              "(TensorShape([64, 769]), TensorShape([64, 246]), TensorShape([64, 1]))"
            ]
          },
          "metadata": {
            "tags": []
          },
          "execution_count": 19
        }
      ]
    },
    {
      "cell_type": "markdown",
      "metadata": {
        "id": "L7kyAsz0DjB1",
        "colab_type": "text"
      },
      "source": [
        "# **Setting up model**"
      ]
    },
    {
      "cell_type": "code",
      "metadata": {
        "id": "0_7S57mYrhjZ",
        "colab_type": "code",
        "colab": {}
      },
      "source": [
        "class EncoderMark(tf.keras.Model):\n",
        "  def __init__(self,batch_sz):\n",
        "    super(EncoderMark, self).__init__()\n",
        "    self.batch_sz = batch_sz\n",
        "    self.enc_units = 256\n",
        "    self.embedding = tf.keras.layers.Embedding(vocab_mark_size, 256)\n",
        "    self.lstm1 = tf.keras.layers.Bidirectional(tf.keras.layers.LSTM(self.enc_units))\n",
        "    self.dense = tf.keras.layers.Dense(256, activation='relu')\n",
        "\n",
        "  def call(self, x):\n",
        "    x = self.embedding(x)\n",
        "    x = self.lstm1(x)# initial_state = hidden\n",
        "    output = self.dense(x)\n",
        "    return output#, state\n"
      ],
      "execution_count": 20,
      "outputs": []
    },
    {
      "cell_type": "code",
      "metadata": {
        "id": "DULnIg9uyu7T",
        "colab_type": "code",
        "colab": {}
      },
      "source": [
        "class DecoderAns(tf.keras.Model):\n",
        "  def __init__(self,batch_sz):\n",
        "    super(DecoderAns, self).__init__()\n",
        "    self.batch_sz = batch_sz\n",
        "    self.enc_units = 256\n",
        "    self.embedding = tf.keras.layers.Embedding(vocab_ans_size, 256)\n",
        "    self.lstm1 = tf.keras.layers.Bidirectional(tf.keras.layers.LSTM(self.enc_units))\n",
        "    self.dense1 = tf.keras.layers.Dense(128, activation='relu')\n",
        "    self.dense2 = tf.keras.layers.Dense(1, activation='relu')\n",
        "\n",
        "  def call(self, x, hidden):\n",
        "    x = self.embedding(x)\n",
        "    encoder_out = tf.expand_dims(hidden, axis=1)\n",
        "    encoder_out = tf.repeat(encoder_out, repeats=[x.shape[1]], axis=1)\n",
        "    x = tf.concat([x, encoder_out], 2)\n",
        "    x = self.lstm1(x)# initial_state = hidden\n",
        "    x = self.dense1(x)\n",
        "    output = self.dense2(x)\n",
        "\n",
        "    return output#, state\n"
      ],
      "execution_count": 21,
      "outputs": []
    },
    {
      "cell_type": "code",
      "metadata": {
        "id": "hOg2JYwmtwW-",
        "colab_type": "code",
        "colab": {}
      },
      "source": [
        "encoder = EncoderMark(BATCH_SIZE)\n",
        "\n",
        "encoder_out = encoder.call(example_mark_batch)"
      ],
      "execution_count": 22,
      "outputs": []
    },
    {
      "cell_type": "code",
      "metadata": {
        "id": "sIqlor3BBgEf",
        "colab_type": "code",
        "colab": {
          "base_uri": "https://localhost:8080/",
          "height": 34
        },
        "outputId": "b02dc0b1-e5c4-4194-fd00-d2ae420c6957"
      },
      "source": [
        "example_ans_batch.shape"
      ],
      "execution_count": 23,
      "outputs": [
        {
          "output_type": "execute_result",
          "data": {
            "text/plain": [
              "TensorShape([64, 769])"
            ]
          },
          "metadata": {
            "tags": []
          },
          "execution_count": 23
        }
      ]
    },
    {
      "cell_type": "code",
      "metadata": {
        "id": "fxgb0yMrAEpf",
        "colab_type": "code",
        "colab": {}
      },
      "source": [
        "decoder = DecoderAns(BATCH_SIZE)\n",
        "decoder_out = decoder.call(example_ans_batch,encoder_out)"
      ],
      "execution_count": 24,
      "outputs": []
    },
    {
      "cell_type": "code",
      "metadata": {
        "id": "PWQH7kBlDMp0",
        "colab_type": "code",
        "colab": {
          "base_uri": "https://localhost:8080/",
          "height": 34
        },
        "outputId": "24352c7c-5a31-4adc-9c61-83636b0e0720"
      },
      "source": [
        "decoder_out.shape"
      ],
      "execution_count": 25,
      "outputs": [
        {
          "output_type": "execute_result",
          "data": {
            "text/plain": [
              "TensorShape([64, 1])"
            ]
          },
          "metadata": {
            "tags": []
          },
          "execution_count": 25
        }
      ]
    },
    {
      "cell_type": "code",
      "metadata": {
        "id": "g42n2pM44C9j",
        "colab_type": "code",
        "colab": {}
      },
      "source": [
        "encoder_out = tf.expand_dims(encoder_out, axis=1)\n",
        "encoder_out = tf.repeat(encoder_out, repeats=[766], axis=1)"
      ],
      "execution_count": 26,
      "outputs": []
    },
    {
      "cell_type": "code",
      "metadata": {
        "id": "FW-AtsfvXbTC",
        "colab_type": "code",
        "colab": {
          "base_uri": "https://localhost:8080/",
          "height": 34
        },
        "outputId": "dbe47b02-5956-4429-ee16-d2061672f503"
      },
      "source": [
        "encoder_out[1,2,1] == encoder_out[1,3,1]"
      ],
      "execution_count": 27,
      "outputs": [
        {
          "output_type": "execute_result",
          "data": {
            "text/plain": [
              "<tf.Tensor: shape=(), dtype=bool, numpy=True>"
            ]
          },
          "metadata": {
            "tags": []
          },
          "execution_count": 27
        }
      ]
    },
    {
      "cell_type": "code",
      "metadata": {
        "id": "sgsrBP_92Tv1",
        "colab_type": "code",
        "colab": {
          "base_uri": "https://localhost:8080/",
          "height": 34
        },
        "outputId": "837f38f2-157e-44bb-9556-559d7c1888e9"
      },
      "source": [
        "embedding = tf.keras.layers.Embedding(vocab_ans_size, 64)\n",
        "inp1 = embedding(example_ans_batch)\n",
        "inp1.shape[1]"
      ],
      "execution_count": 28,
      "outputs": [
        {
          "output_type": "execute_result",
          "data": {
            "text/plain": [
              "769"
            ]
          },
          "metadata": {
            "tags": []
          },
          "execution_count": 28
        }
      ]
    },
    {
      "cell_type": "markdown",
      "metadata": {
        "id": "EBhx4gTemhCY",
        "colab_type": "text"
      },
      "source": [
        "# **IMPLEMENTATION**"
      ]
    },
    {
      "cell_type": "code",
      "metadata": {
        "id": "mTwMFgucmIlf",
        "colab_type": "code",
        "colab": {}
      },
      "source": [
        "optimizer = tf.keras.optimizers.Adam(learning_rate=0.00001)\n",
        "loss_object = tf.keras.losses.MeanSquaredError(reduction=\"auto\", name=\"mean_squared_error\")\n",
        "\n",
        "def loss_function(real, pred):\n",
        "  loss_ = loss_object(real, pred)\n",
        "  return loss_ "
      ],
      "execution_count": 38,
      "outputs": []
    },
    {
      "cell_type": "code",
      "metadata": {
        "id": "9YKJ4us8oVf5",
        "colab_type": "code",
        "colab": {}
      },
      "source": [
        "@tf.function\n",
        "def train_step(ans, mark,score):\n",
        "  loss = 0\n",
        "\n",
        "  with tf.GradientTape() as tape:\n",
        "\n",
        "    encoder_out = encoder.call(mark)\n",
        "    predicted_score = decoder.call(ans,encoder_out)\n",
        "    loss = loss_function(score,predicted_score)\n",
        "\n",
        "  variables = encoder.trainable_variables + decoder.trainable_variables\n",
        "\n",
        "  gradients = tape.gradient(loss, variables)\n",
        "\n",
        "  optimizer.apply_gradients(zip(gradients, variables))\n",
        "\n",
        "  return loss"
      ],
      "execution_count": 39,
      "outputs": []
    },
    {
      "cell_type": "code",
      "metadata": {
        "id": "BBuVyH2fzk8R",
        "colab_type": "code",
        "colab": {
          "base_uri": "https://localhost:8080/",
          "height": 34
        },
        "outputId": "b97bc757-e548-44e1-9981-9f3031af3e09"
      },
      "source": [
        "steps_per_epoch"
      ],
      "execution_count": 31,
      "outputs": [
        {
          "output_type": "execute_result",
          "data": {
            "text/plain": [
              "68"
            ]
          },
          "metadata": {
            "tags": []
          },
          "execution_count": 31
        }
      ]
    },
    {
      "cell_type": "code",
      "metadata": {
        "id": "6BTajEIAFvfV",
        "colab_type": "code",
        "colab": {}
      },
      "source": [
        "encoder.save_weights(\"encoder_mark.hdf5\")\n"
      ],
      "execution_count": 32,
      "outputs": []
    },
    {
      "cell_type": "code",
      "metadata": {
        "id": "VClFo3aOh2R3",
        "colab_type": "code",
        "colab": {}
      },
      "source": [
        "loss_history_train = []\n",
        "loss_history_val = []"
      ],
      "execution_count": 33,
      "outputs": []
    },
    {
      "cell_type": "code",
      "metadata": {
        "id": "dp1BN5OpoGPo",
        "colab_type": "code",
        "colab": {
          "base_uri": "https://localhost:8080/",
          "height": 1000
        },
        "outputId": "a1e3f736-e7d5-4c0c-a6f3-292366192f4c"
      },
      "source": [
        "EPOCHS = 2\n",
        "\n",
        "for epoch in range(EPOCHS):\n",
        "  start = time.time()\n",
        "\n",
        "  total_loss = 0\n",
        "  set_loss = 0\n",
        "  for (batch, (ans, mark,score)) in enumerate(dataset.take(steps_per_epoch)):\n",
        "    if (batch % 10 == 0):\n",
        "      encoder_out = encoder.call(mark)\n",
        "      predicted_score = decoder.call(ans,encoder_out)\n",
        "      loss_val = loss_function(score,predicted_score)\n",
        "\n",
        "      encoder.save_weights(\"encoder_mark.hdf5\")\n",
        "      decoder.save_weights(\"decoder_ans.hdf5\")\n",
        "\n",
        "      \n",
        "      if(batch != 0):\n",
        "        loss_history_train.append(set_loss/9)\n",
        "        print('SAVING MODEL TRAIN RESULT: Epoch {} Batch {} Loss {:.4f}'.format(epoch + 1,\n",
        "                                                   batch,\n",
        "                                                   set_loss/9))\n",
        "      set_loss = 0\n",
        "      print('VALIDATION RESULT: Epoch {} Batch {} Loss {:.4f}'.format(epoch + 1,\n",
        "                                                   batch,\n",
        "                                                   loss_val.numpy()))\n",
        "      loss_history_val.append(loss_val.numpy())\n",
        "    else:\n",
        "      batch_loss = train_step(ans, mark,score)\n",
        "      total_loss += batch_loss\n",
        "      set_loss += batch_loss.numpy()\n",
        "      if batch % 1 == 0:\n",
        "        print('Epoch {} Batch {} Loss {:.4f}'.format(epoch + 1,\n",
        "                                                   batch,\n",
        "                                                   batch_loss.numpy()))\n",
        "\n",
        "  # saving (checkpoint) the model every 2 epochs\n",
        "\n",
        "  print('Epoch {} Loss {:.4f}'.format(epoch + 1,\n",
        "                                      total_loss / (steps_per_epoch*.9)))\n",
        "  print('Time taken for 1 epoch {} sec\\n'.format(time.time() - start))"
      ],
      "execution_count": 42,
      "outputs": [
        {
          "output_type": "stream",
          "text": [
            "VALIDATION RESULT: Epoch 1 Batch 0 Loss 2.7946\n",
            "Epoch 1 Batch 1 Loss 2.5458\n",
            "Epoch 1 Batch 2 Loss 2.7237\n",
            "Epoch 1 Batch 3 Loss 2.8520\n",
            "Epoch 1 Batch 4 Loss 2.3226\n",
            "Epoch 1 Batch 5 Loss 3.0617\n",
            "Epoch 1 Batch 6 Loss 2.4138\n",
            "Epoch 1 Batch 7 Loss 3.3585\n",
            "Epoch 1 Batch 8 Loss 2.4166\n",
            "Epoch 1 Batch 9 Loss 2.6466\n",
            "SAVING MODEL TRAIN RESULT: Epoch 1 Batch 10 Loss 2.7046\n",
            "VALIDATION RESULT: Epoch 1 Batch 10 Loss 2.5548\n",
            "Epoch 1 Batch 11 Loss 3.1044\n",
            "Epoch 1 Batch 12 Loss 2.7742\n",
            "Epoch 1 Batch 13 Loss 3.8480\n",
            "Epoch 1 Batch 14 Loss 3.1060\n",
            "Epoch 1 Batch 15 Loss 2.8256\n",
            "Epoch 1 Batch 16 Loss 2.1832\n",
            "Epoch 1 Batch 17 Loss 3.2475\n",
            "Epoch 1 Batch 18 Loss 2.8342\n",
            "Epoch 1 Batch 19 Loss 3.3171\n",
            "SAVING MODEL TRAIN RESULT: Epoch 1 Batch 20 Loss 3.0267\n",
            "VALIDATION RESULT: Epoch 1 Batch 20 Loss 2.4033\n",
            "Epoch 1 Batch 21 Loss 3.0102\n",
            "Epoch 1 Batch 22 Loss 3.3079\n",
            "Epoch 1 Batch 23 Loss 2.6688\n",
            "Epoch 1 Batch 24 Loss 3.2168\n",
            "Epoch 1 Batch 25 Loss 2.5939\n",
            "Epoch 1 Batch 26 Loss 3.1093\n",
            "Epoch 1 Batch 27 Loss 2.5890\n",
            "Epoch 1 Batch 28 Loss 2.8699\n",
            "Epoch 1 Batch 29 Loss 3.2081\n",
            "SAVING MODEL TRAIN RESULT: Epoch 1 Batch 30 Loss 2.9527\n",
            "VALIDATION RESULT: Epoch 1 Batch 30 Loss 3.4427\n",
            "Epoch 1 Batch 31 Loss 3.2493\n",
            "Epoch 1 Batch 32 Loss 3.4060\n",
            "Epoch 1 Batch 33 Loss 2.1757\n",
            "Epoch 1 Batch 34 Loss 2.8275\n",
            "Epoch 1 Batch 35 Loss 2.6189\n",
            "Epoch 1 Batch 36 Loss 2.7278\n",
            "Epoch 1 Batch 37 Loss 3.6409\n",
            "Epoch 1 Batch 38 Loss 3.0955\n",
            "Epoch 1 Batch 39 Loss 2.7352\n",
            "SAVING MODEL TRAIN RESULT: Epoch 1 Batch 40 Loss 2.9419\n",
            "VALIDATION RESULT: Epoch 1 Batch 40 Loss 2.9725\n",
            "Epoch 1 Batch 41 Loss 3.0914\n",
            "Epoch 1 Batch 42 Loss 2.6899\n",
            "Epoch 1 Batch 43 Loss 3.4420\n",
            "Epoch 1 Batch 44 Loss 3.4244\n",
            "Epoch 1 Batch 45 Loss 2.7425\n",
            "Epoch 1 Batch 46 Loss 4.0043\n",
            "Epoch 1 Batch 47 Loss 3.1450\n",
            "Epoch 1 Batch 48 Loss 2.8944\n",
            "Epoch 1 Batch 49 Loss 3.5323\n",
            "SAVING MODEL TRAIN RESULT: Epoch 1 Batch 50 Loss 3.2185\n",
            "VALIDATION RESULT: Epoch 1 Batch 50 Loss 2.5687\n",
            "Epoch 1 Batch 51 Loss 2.8975\n",
            "Epoch 1 Batch 52 Loss 3.0141\n",
            "Epoch 1 Batch 53 Loss 2.9412\n",
            "Epoch 1 Batch 54 Loss 2.8044\n",
            "Epoch 1 Batch 55 Loss 2.8496\n",
            "Epoch 1 Batch 56 Loss 2.9079\n",
            "Epoch 1 Batch 57 Loss 2.6059\n",
            "Epoch 1 Batch 58 Loss 2.8257\n",
            "Epoch 1 Batch 59 Loss 2.6852\n",
            "SAVING MODEL TRAIN RESULT: Epoch 1 Batch 60 Loss 2.8368\n",
            "VALIDATION RESULT: Epoch 1 Batch 60 Loss 2.9108\n",
            "Epoch 1 Batch 61 Loss 2.5522\n",
            "Epoch 1 Batch 62 Loss 2.8397\n",
            "Epoch 1 Batch 63 Loss 2.8766\n",
            "Epoch 1 Batch 64 Loss 2.6399\n",
            "Epoch 1 Batch 65 Loss 3.2460\n",
            "Epoch 1 Batch 66 Loss 2.7128\n",
            "Epoch 1 Batch 67 Loss 3.0501\n",
            "Epoch 1 Loss 2.9256\n",
            "Time taken for 1 epoch 45.27365493774414 sec\n",
            "\n",
            "VALIDATION RESULT: Epoch 2 Batch 0 Loss 3.2792\n",
            "Epoch 2 Batch 1 Loss 2.6970\n",
            "Epoch 2 Batch 2 Loss 2.4802\n",
            "Epoch 2 Batch 3 Loss 2.9496\n",
            "Epoch 2 Batch 4 Loss 2.5482\n",
            "Epoch 2 Batch 5 Loss 3.3080\n",
            "Epoch 2 Batch 6 Loss 2.4918\n",
            "Epoch 2 Batch 7 Loss 3.0148\n",
            "Epoch 2 Batch 8 Loss 3.3032\n",
            "Epoch 2 Batch 9 Loss 2.9718\n",
            "SAVING MODEL TRAIN RESULT: Epoch 2 Batch 10 Loss 2.8627\n",
            "VALIDATION RESULT: Epoch 2 Batch 10 Loss 2.6111\n",
            "Epoch 2 Batch 11 Loss 2.9224\n",
            "Epoch 2 Batch 12 Loss 2.7969\n",
            "Epoch 2 Batch 13 Loss 2.9621\n",
            "Epoch 2 Batch 14 Loss 2.4024\n",
            "Epoch 2 Batch 15 Loss 3.3551\n",
            "Epoch 2 Batch 16 Loss 2.7322\n",
            "Epoch 2 Batch 17 Loss 2.6413\n",
            "Epoch 2 Batch 18 Loss 3.1690\n",
            "Epoch 2 Batch 19 Loss 2.9019\n",
            "SAVING MODEL TRAIN RESULT: Epoch 2 Batch 20 Loss 2.8759\n",
            "VALIDATION RESULT: Epoch 2 Batch 20 Loss 2.5406\n",
            "Epoch 2 Batch 21 Loss 3.1542\n",
            "Epoch 2 Batch 22 Loss 2.8892\n",
            "Epoch 2 Batch 23 Loss 2.7282\n",
            "Epoch 2 Batch 24 Loss 3.3182\n",
            "Epoch 2 Batch 25 Loss 2.9540\n",
            "Epoch 2 Batch 26 Loss 2.1893\n",
            "Epoch 2 Batch 27 Loss 3.3264\n",
            "Epoch 2 Batch 28 Loss 2.4242\n",
            "Epoch 2 Batch 29 Loss 3.1510\n",
            "SAVING MODEL TRAIN RESULT: Epoch 2 Batch 30 Loss 2.9039\n",
            "VALIDATION RESULT: Epoch 2 Batch 30 Loss 2.8620\n",
            "Epoch 2 Batch 31 Loss 3.0044\n",
            "Epoch 2 Batch 32 Loss 2.8125\n",
            "Epoch 2 Batch 33 Loss 3.4473\n",
            "Epoch 2 Batch 34 Loss 3.1851\n",
            "Epoch 2 Batch 35 Loss 2.5968\n",
            "Epoch 2 Batch 36 Loss 3.2236\n",
            "Epoch 2 Batch 37 Loss 3.1692\n",
            "Epoch 2 Batch 38 Loss 3.5312\n",
            "Epoch 2 Batch 39 Loss 2.5755\n",
            "SAVING MODEL TRAIN RESULT: Epoch 2 Batch 40 Loss 3.0606\n",
            "VALIDATION RESULT: Epoch 2 Batch 40 Loss 2.1715\n",
            "Epoch 2 Batch 41 Loss 3.3898\n",
            "Epoch 2 Batch 42 Loss 3.1844\n",
            "Epoch 2 Batch 43 Loss 3.0291\n",
            "Epoch 2 Batch 44 Loss 2.9211\n",
            "Epoch 2 Batch 45 Loss 2.8822\n",
            "Epoch 2 Batch 46 Loss 2.7242\n",
            "Epoch 2 Batch 47 Loss 2.7353\n",
            "Epoch 2 Batch 48 Loss 3.2141\n",
            "Epoch 2 Batch 49 Loss 2.9530\n",
            "SAVING MODEL TRAIN RESULT: Epoch 2 Batch 50 Loss 3.0037\n",
            "VALIDATION RESULT: Epoch 2 Batch 50 Loss 3.2711\n",
            "Epoch 2 Batch 51 Loss 2.3030\n",
            "Epoch 2 Batch 52 Loss 2.6696\n",
            "Epoch 2 Batch 53 Loss 3.4311\n",
            "Epoch 2 Batch 54 Loss 3.3141\n",
            "Epoch 2 Batch 55 Loss 2.6806\n",
            "Epoch 2 Batch 56 Loss 2.7693\n",
            "Epoch 2 Batch 57 Loss 2.5745\n",
            "Epoch 2 Batch 58 Loss 3.0204\n",
            "Epoch 2 Batch 59 Loss 3.3635\n",
            "SAVING MODEL TRAIN RESULT: Epoch 2 Batch 60 Loss 2.9029\n",
            "VALIDATION RESULT: Epoch 2 Batch 60 Loss 3.0984\n",
            "Epoch 2 Batch 61 Loss 2.2983\n",
            "Epoch 2 Batch 62 Loss 3.0037\n",
            "Epoch 2 Batch 63 Loss 2.4675\n",
            "Epoch 2 Batch 64 Loss 3.4368\n",
            "Epoch 2 Batch 65 Loss 2.6349\n",
            "Epoch 2 Batch 66 Loss 3.3380\n",
            "Epoch 2 Batch 67 Loss 2.8049\n",
            "Epoch 2 Loss 2.9162\n",
            "Time taken for 1 epoch 44.98663353919983 sec\n",
            "\n"
          ],
          "name": "stdout"
        }
      ]
    },
    {
      "cell_type": "code",
      "metadata": {
        "id": "DXEPteMYsJdr",
        "colab_type": "code",
        "colab": {
          "base_uri": "https://localhost:8080/",
          "height": 295
        },
        "outputId": "53b7304a-9e31-403c-d14c-17e046dc2079"
      },
      "source": [
        "plt.plot(loss_history_train[10:],label=\"Train\")# Blue\n",
        "plt.plot(loss_history_val[10:],label=\"Validation\")# Yellow \n",
        "plt.xlabel(\"10 batch\")\n",
        "plt.ylabel(\"MSE loss\")\n",
        "plt.title(\"Loss For 999 orginal data points\")\n",
        "plt.savefig('Both_model2_999.pdf')  \n",
        "\n",
        "plt.show()"
      ],
      "execution_count": 44,
      "outputs": [
        {
          "output_type": "display_data",
          "data": {
            "image/png": "[encoded data removed]",
            "text/plain": [
              "<Figure size 432x288 with 1 Axes>"
            ]
          },
          "metadata": {
            "tags": [],
            "needs_background": "light"
          }
        }
      ]
    },
    {
      "cell_type": "code",
      "metadata": {
        "id": "uZMPRX_YBE6s",
        "colab_type": "code",
        "colab": {}
      },
      "source": [
        "encoder.save_weights(\"encoder_mark.hdf5\")\n",
        "decoder.save_weights(\"decoder_ans.hdf5\")"
      ],
      "execution_count": 45,
      "outputs": []
    }
  ]
}